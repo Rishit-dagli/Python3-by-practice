{
 "cells": [
  {
   "cell_type": "code",
   "execution_count": 1,
   "metadata": {},
   "outputs": [
    {
     "name": "stdout",
     "output_type": "stream",
     "text": [
      "quit/add/remove/show/clear:quit\n",
      "Thanks fot using our Program.\n"
     ]
    }
   ],
   "source": [
    "from IPython.display import clear_output\n",
    "cart = []\n",
    "\n",
    "def addItem(item):\n",
    "    clear_output()\n",
    "    cart.append(item)\n",
    "    print(f\"{item} has been added\")\n",
    "\n",
    "def removeItem(item):\n",
    "    clear_output()\n",
    "    try:\n",
    "        if item.isdigit():\n",
    "            item_removed = cart.pop(int(item) - 1)\n",
    "            print(f\"{item_removed} has been removed\")\n",
    "        else:\n",
    "            cart.remove(item)\n",
    "            print(f\"{item} has been removed\")\n",
    "    except:\n",
    "        print(\"Sorry we could not remove that item\")\n",
    "        \n",
    "def showcart():\n",
    "    clear_output()\n",
    "    if cart:\n",
    "        print(\"Here is yout cart\")\n",
    "        for i in range(len(cart)):\n",
    "            print(f\"{i+1}){cart[i]}\")\n",
    "    else:\n",
    "        print(\"Your cart is Empty\")\n",
    "        \n",
    "def clearCart():\n",
    "    clear_output()\n",
    "    cart.clear()\n",
    "    print(\"Your Cart is Empty.\")\n",
    "    \n",
    "def main():\n",
    "    done = False\n",
    "    while not done:\n",
    "        ans = input(\"quit/add/remove/show/clear:\").lower()\n",
    "        if ans == \"quit\":\n",
    "            print(\"Thanks fot using our Program.\")\n",
    "            done = True\n",
    "        elif ans == \"add\":\n",
    "            item = input(\"What would u like to add ? \").title()\n",
    "            addItem(item)\n",
    "        elif ans == \"remove\":\n",
    "            item = input(\"What would u like to remove ?\").title()\n",
    "            removeItem(item)\n",
    "        elif ans == \"show\":\n",
    "            showcart()\n",
    "        elif ans == \"clear\":\n",
    "            clearCart()\n",
    "        else:\n",
    "            print(\"Sorry that was not an option.\")\n",
    "\n",
    "main()"
   ]
  },
  {
   "cell_type": "markdown",
   "metadata": {},
   "source": [
    "# ---Re-factor Hang man\n"
   ]
  },
  {
   "cell_type": "code",
   "execution_count": 1,
   "metadata": {},
   "outputs": [
    {
     "name": "stdout",
     "output_type": "stream",
     "text": [
      "You guessed correctly!\n",
      "Congratulations, you guessed it correctly!\n"
     ]
    }
   ],
   "source": [
    "from random import choice\n",
    "from IPython.display import clear_output\n",
    "\n",
    "\n",
    "def checkGameCondition(lives, guesses, word):\n",
    "    if lives <= 0:\n",
    "        print('You lost all your lives, you lost!')\n",
    "        return True\n",
    "    elif word == ''.join(guesses):\n",
    "        print('Congratulations, you guessed it correctly!')\n",
    "        return True\n",
    "        \n",
    "    return False\n",
    "\n",
    "def checkGuess(ans, word, guesses, guessed, lives):\n",
    "    game_over = False\n",
    "    \n",
    "    if ans == 'quit':\n",
    "        print('Thanks for playing.')\n",
    "        game_over = True\n",
    "    elif ans in word and ans not in guessed:\n",
    "        print('You guessed correctly!')\n",
    "\n",
    "        # create a loop to change underscore to proper letter\n",
    "        for i in range(len(word)):\n",
    "            if word[i] == ans:\n",
    "                guesses[i] = ans\n",
    "    elif ans in guessed:\n",
    "        print('You already guessed that. Try again.')\n",
    "    else:                 # otherwise lose life\n",
    "        lives -= 1\n",
    "        print('Incorrect, you lost a life.')\n",
    "\n",
    "    if ans not in guessed:\n",
    "        guessed.append(ans)    # add guess to guessed list\n",
    "        \n",
    "    return game_over, guesses, guessed, lives\n",
    "\n",
    "def outputGameInfo(guesses, guessed, lives):\n",
    "    hidden_word = ''.join(guesses)\n",
    "    print('Your guessed letters: {}'.format(guessed))\n",
    "    print('Word to guess: {}'.format(hidden_word))\n",
    "    print('Lives: {}'.format(lives))\n",
    "\n",
    "\n",
    "\n",
    "def gamePlay():\n",
    "    # declare game variables\n",
    "    words = ['tree', 'basket', 'chair', 'paper', 'python']\n",
    "    word = choice(words)\n",
    "    guessed, lives, game_over = [], 7, False\n",
    "\n",
    "    # create a list of underscores to the length of the word\n",
    "    guesses = ['_ '] * len(word)\n",
    "\n",
    "    # create main game loop\n",
    "    while not game_over:\n",
    "        # output game information\n",
    "        outputGameInfo(guesses, guessed, lives)\n",
    "\n",
    "        ans = input('Type quit or guess a letter: ').lower()\n",
    "\n",
    "        clear_output()     # clear all previous output\n",
    "\n",
    "        game_over, guesses, guessed, lives = checkGuess(ans, word, guesses, guessed, lives)\n",
    "\n",
    "        game_over = checkGameCondition(lives, guesses, word)\n",
    "            \n",
    "gamePlay()"
   ]
  },
  {
   "cell_type": "code",
   "execution_count": null,
   "metadata": {},
   "outputs": [],
   "source": []
  },
  {
   "cell_type": "code",
   "execution_count": null,
   "metadata": {},
   "outputs": [],
   "source": []
  },
  {
   "cell_type": "code",
   "execution_count": null,
   "metadata": {},
   "outputs": [],
   "source": []
  },
  {
   "cell_type": "code",
   "execution_count": null,
   "metadata": {},
   "outputs": [],
   "source": []
  }
 ],
 "metadata": {
  "kernelspec": {
   "display_name": "Python 3",
   "language": "python",
   "name": "python3"
  },
  "language_info": {
   "codemirror_mode": {
    "name": "ipython",
    "version": 3
   },
   "file_extension": ".py",
   "mimetype": "text/x-python",
   "name": "python",
   "nbconvert_exporter": "python",
   "pygments_lexer": "ipython3",
   "version": "3.7.4"
  }
 },
 "nbformat": 4,
 "nbformat_minor": 2
}
