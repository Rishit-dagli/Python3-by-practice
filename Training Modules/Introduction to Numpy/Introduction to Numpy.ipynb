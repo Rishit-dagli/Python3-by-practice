{
  "nbformat": 4,
  "nbformat_minor": 0,
  "metadata": {
    "colab": {
      "name": "Introduction to Numpy.ipynb",
      "provenance": [],
      "collapsed_sections": []
    },
    "kernelspec": {
      "name": "python3",
      "display_name": "Python 3"
    }
  },
  "cells": [
    {
      "cell_type": "markdown",
      "metadata": {
        "id": "3wQdSU-OpGfs"
      },
      "source": [
        "_Notebook originally contributed by: [reddymahendra52](https://github.com/reddymahendra52)_"
      ]
    },
    {
      "cell_type": "markdown",
      "metadata": {
        "id": "nZRdGJy65I9c"
      },
      "source": [
        "<table class=\"tfo-notebook-buttons\" align=\"left\">\n",
        "  <td>\n",
        "    <a target=\"_blank\" href=\"https://colab.research.google.com/drive/1RmsXCjhP9RPXH4cIHp2q_4eftNBPEKNT#\"><img src=\"https://www.tensorflow.org/images/colab_logo_32px.png\" />Run in Google Colab</a>\n",
        "  </td>\n",
        "  <td>\n",
        "    <a target=\"_blank\" href=\"https://github.com/reddymahendra52/Python3-by-practice/blob/master/Training%20Modules/Introduction%20to%20Numpy/Introduction%20to%20Numpy.ipynb\"><img src=\"https://www.tensorflow.org/images/GitHub-Mark-32px.png\" />View source on GitHub</a>\n",
        "  </td>\n",
        "</table>"
      ]
    },
    {
      "cell_type": "markdown",
      "metadata": {
        "id": "Ye0EKR8bqFfb"
      },
      "source": [
        " Intro\n",
        "This notebook contains all the basic examples of all the demos described in the README."
      ]
    },
    {
      "cell_type": "markdown",
      "metadata": {
        "id": "IuqSl-Yp5RDr"
      },
      "source": [
        "## Creating a Basic Array\n"
      ]
    },
    {
      "cell_type": "code",
      "metadata": {
        "id": "fvooP0X15BYH",
        "outputId": "3db419bb-c1c0-466c-8742-59ec515f00f3",
        "colab": {
          "base_uri": "https://localhost:8080/",
          "height": 85
        }
      },
      "source": [
        "   import numpy as np\n",
        "   arr1=np.array([1,2,3])\n",
        "   arr2=np.array(['a','b','c','d','e'])\n",
        "   arr3= np.array((1, 2, 3, 4, 5)) # You can also pass a tuple to creat an Array\n",
        "   print(arr1)\n",
        "   print(arr2)\n",
        "   print(arr3)\n",
        "   print(type(arr1))"
      ],
      "execution_count": null,
      "outputs": [
        {
          "output_type": "stream",
          "text": [
            "[1 2 3]\n",
            "['a' 'b' 'c' 'd' 'e']\n",
            "[1 2 3 4 5]\n",
            "<class 'numpy.ndarray'>\n"
          ],
          "name": "stdout"
        }
      ]
    },
    {
      "cell_type": "markdown",
      "metadata": {
        "id": "lro9176r5uX8"
      },
      "source": [
        "Arrays using ***np.zeros(), np.ones(), np.arange()***"
      ]
    },
    {
      "cell_type": "code",
      "metadata": {
        "id": "cpTvrMpc6DF6",
        "outputId": "1ac6b116-53e0-45fe-a319-96bfc3ce269a",
        "colab": {
          "base_uri": "https://localhost:8080/",
          "height": 102
        }
      },
      "source": [
        "   import numpy as np\n",
        "   a=np.zeros(3)\n",
        "   b=np.ones(5)\n",
        "   c=np.arange(10)\n",
        "   d=np.arange(2,9)   # To specify start and stop\n",
        "   e=np.arange(1,10,2) # To specify start and stop with step size\n",
        "   print(a)\n",
        "   print(b)\n",
        "   print(c)\n",
        "   print(d)\n",
        "   print(e)"
      ],
      "execution_count": null,
      "outputs": [
        {
          "output_type": "stream",
          "text": [
            "[0. 0. 0.]\n",
            "[1. 1. 1. 1. 1.]\n",
            "[0 1 2 3 4 5 6 7 8 9]\n",
            "[2 3 4 5 6 7 8]\n",
            "[1 3 5 7 9]\n"
          ],
          "name": "stdout"
        }
      ]
    },
    {
      "cell_type": "markdown",
      "metadata": {
        "id": "ZgpAKkfJ6VaO"
      },
      "source": [
        "## NdArray (N-Dimensional Array)"
      ]
    },
    {
      "cell_type": "markdown",
      "metadata": {
        "id": "kqyrw5Gz6hFh"
      },
      "source": [
        " A 2-Dimensional Array"
      ]
    },
    {
      "cell_type": "code",
      "metadata": {
        "id": "9ZQaeKsm69yz",
        "outputId": "3d881694-ff37-42f1-e545-26a7289dc9b7",
        "colab": {
          "base_uri": "https://localhost:8080/",
          "height": 221
        }
      },
      "source": [
        "   import numpy as np\n",
        "   arr1=np.array([[1,2,3],[4,5,6]])\n",
        "   arr2=np.array([[1,2,3],[4,5,6],[7,8,9]])\n",
        "   arr3=np.array([['a','b','c'],['d','e','f']])\n",
        "   \n",
        "   #creates a 3X3 array with all zeros\n",
        "   zeros=np.zeros((3,3))\n",
        "   \n",
        "   #creates a 2X2 array with all ones\n",
        "   ones=np.ones((2,2),dtype='int64')  #specify the type with (dtype) parameter \n",
        "   \n",
        "   print(arr1)\n",
        "   print(arr2)\n",
        "   print(arr3)\n",
        "   print(zeros)\n",
        "   print(ones)"
      ],
      "execution_count": null,
      "outputs": [
        {
          "output_type": "stream",
          "text": [
            "[[1 2 3]\n",
            " [4 5 6]]\n",
            "[[1 2 3]\n",
            " [4 5 6]\n",
            " [7 8 9]]\n",
            "[['a' 'b' 'c']\n",
            " ['d' 'e' 'f']]\n",
            "[[0. 0. 0.]\n",
            " [0. 0. 0.]\n",
            " [0. 0. 0.]]\n",
            "[[1 1]\n",
            " [1 1]]\n"
          ],
          "name": "stdout"
        }
      ]
    },
    {
      "cell_type": "markdown",
      "metadata": {
        "id": "9CrmsTfZ7JzM"
      },
      "source": [
        "NumPy provides some cool methods you can check the number of dimensions using ***ndim***"
      ]
    },
    {
      "cell_type": "code",
      "metadata": {
        "id": "nxCplbEd7LEf",
        "outputId": "90148302-5fc2-415b-808e-ef54f3cd0a28",
        "colab": {
          "base_uri": "https://localhost:8080/",
          "height": 85
        }
      },
      "source": [
        "   import numpy as np\n",
        "\n",
        "   a = np.array(42)\n",
        "   b = np.array([1, 2, 3, 4, 5])\n",
        "   c = np.array([[1, 2, 3], [4, 5, 6]])\n",
        "   d = np.array([[[1, 2, 3], [4, 5, 6]], [[1, 2, 3], [4, 5, 6]]])\n",
        "\n",
        "   print(a.ndim)\n",
        "   print(b.ndim)\n",
        "   print(c.ndim)\n",
        "   print(d.ndim)"
      ],
      "execution_count": null,
      "outputs": [
        {
          "output_type": "stream",
          "text": [
            "0\n",
            "1\n",
            "2\n",
            "3\n"
          ],
          "name": "stdout"
        }
      ]
    },
    {
      "cell_type": "markdown",
      "metadata": {
        "id": "yPsSP0zW7bGq"
      },
      "source": [
        "Basic Operations with Arrays"
      ]
    },
    {
      "cell_type": "code",
      "metadata": {
        "id": "t9HppyiA7UKx",
        "outputId": "43ee7741-1152-4b31-c5f0-797ea96b48dc",
        "colab": {
          "base_uri": "https://localhost:8080/",
          "height": 136
        }
      },
      "source": [
        "   import numpy as np\n",
        "   arr1=np.array([5,5,5,5])\n",
        "   arr2=np.array([3,3,3,3])\n",
        "   c=arr1+arr2\n",
        "   d=arr1-arr2\n",
        "   e=arr1/arr2\n",
        "   print(arr1)\n",
        "   print(arr2)\n",
        "   print(c) # addition\n",
        "   print(d) # subtraction\n",
        "   print(e) # division\n",
        "   print(\"Adding one to all elements:\",c+1)\n",
        "   print(\"Subtracting one from all elements:\",d-1)"
      ],
      "execution_count": null,
      "outputs": [
        {
          "output_type": "stream",
          "text": [
            "[5 5 5 5]\n",
            "[3 3 3 3]\n",
            "[8 8 8 8]\n",
            "[2 2 2 2]\n",
            "[1.66666667 1.66666667 1.66666667 1.66666667]\n",
            "Adding one to all elements: [9 9 9 9]\n",
            "Subtracting one from all elements: [1 1 1 1]\n"
          ],
          "name": "stdout"
        }
      ]
    },
    {
      "cell_type": "markdown",
      "metadata": {
        "id": "Gl-ASg4q9j6N"
      },
      "source": [
        "## Array Indexing and Slicing"
      ]
    },
    {
      "cell_type": "markdown",
      "metadata": {
        "id": "iMTS3mZS9oaS"
      },
      "source": [
        "### Array Indexing"
      ]
    },
    {
      "cell_type": "code",
      "metadata": {
        "id": "-XzhAaZH9tfV",
        "outputId": "e8b5d068-74a0-41da-c388-318f0f2228c4",
        "colab": {
          "base_uri": "https://localhost:8080/",
          "height": 119
        }
      },
      "source": [
        "   import numpy as np\n",
        "   arr1= np.array([3,2,3,4])\n",
        "   arr2= np.array([2,1,1,3])\n",
        "   arr3= np.array(['D','e','V','I','n','c','e','p','t'])\n",
        "   arr4= np.array([[1,2,3,4,5], [6,7,8,9,10]])\n",
        "   print(arr1[0]) # prints first element\n",
        "   print(arr1[-1]) # prints last element\n",
        "   print(arr2[2]) # prints third element\n",
        "   print(arr3[0]) # prints first element\n",
        "   print(arr4[1][3]) #prints 9\n",
        "   print(arr4[1,3]) # Or you can use this type "
      ],
      "execution_count": null,
      "outputs": [
        {
          "output_type": "stream",
          "text": [
            "3\n",
            "4\n",
            "1\n",
            "D\n",
            "9\n",
            "9\n"
          ],
          "name": "stdout"
        }
      ]
    },
    {
      "cell_type": "markdown",
      "metadata": {
        "id": "xC66jkkb-DHc"
      },
      "source": [
        "### Array Slicing"
      ]
    },
    {
      "cell_type": "code",
      "metadata": {
        "id": "uieObpRf-GEt",
        "outputId": "fc6d156f-9268-4c37-d4e3-5542ff89db8e",
        "colab": {
          "base_uri": "https://localhost:8080/",
          "height": 187
        }
      },
      "source": [
        "   import numpy as np\n",
        "   arr1=np.array(['D','e','V','I','n','c','e','p','t'])\n",
        "   arr2=np.array([1,2,3,4,5,6,7,8,9])\n",
        "   \n",
        "   #2-D Slicing\n",
        "   arr3=np.array([[1, 2, 3, 4, 5], [6, 7, 8, 9, 10]])\n",
        "   \n",
        "   print(arr1[:3]) # default is taken as 0\n",
        "   print(arr1[0:3])\n",
        "   print(arr1[3:]) # taken till the end\n",
        "   print(arr1[::2])\n",
        "   \n",
        "   print(arr2[-4:-1])\n",
        "   print(arr2[::2]) # step size as 2\n",
        "   \n",
        "   # 2-D Slicing\n",
        "   print(arr3[1,1:4])\n",
        "   print(arr3[0:2, 2])\n",
        "   print(arr3[0:2, 1:4])"
      ],
      "execution_count": null,
      "outputs": [
        {
          "output_type": "stream",
          "text": [
            "['D' 'e' 'V']\n",
            "['D' 'e' 'V']\n",
            "['I' 'n' 'c' 'e' 'p' 't']\n",
            "['D' 'V' 'n' 'e' 't']\n",
            "[6 7 8]\n",
            "[1 3 5 7 9]\n",
            "[7 8 9]\n",
            "[3 8]\n",
            "[[2 3 4]\n",
            " [7 8 9]]\n"
          ],
          "name": "stdout"
        }
      ]
    },
    {
      "cell_type": "markdown",
      "metadata": {
        "id": "_L6HWD5g-MiQ"
      },
      "source": [
        "**All in One Example**"
      ]
    },
    {
      "cell_type": "code",
      "metadata": {
        "id": "vcoa3e6o-MDc",
        "outputId": "63bc86f2-7adf-4ede-e4ef-31720bdb48a2",
        "colab": {
          "base_uri": "https://localhost:8080/",
          "height": 85
        }
      },
      "source": [
        "   import numpy as np\n",
        "   data = np.array([1, 2, 3])\n",
        "   print(data[1])\n",
        "   print(data[0:2])\n",
        "   print(data[1:])\n",
        "   print(data[-2:])"
      ],
      "execution_count": null,
      "outputs": [
        {
          "output_type": "stream",
          "text": [
            "2\n",
            "[1 2]\n",
            "[2 3]\n",
            "[2 3]\n"
          ],
          "name": "stdout"
        }
      ]
    },
    {
      "cell_type": "markdown",
      "metadata": {
        "id": "qrTm0hIO-Vnp"
      },
      "source": [
        "# Numpy Functions"
      ]
    },
    {
      "cell_type": "markdown",
      "metadata": {
        "id": "T_TIbFSy-bJm"
      },
      "source": [
        "## NumPy Array Shape"
      ]
    },
    {
      "cell_type": "code",
      "metadata": {
        "id": "1fYpP4eD-nJO",
        "outputId": "6f852d60-6104-492d-a6cf-cc564abf8644",
        "colab": {
          "base_uri": "https://localhost:8080/",
          "height": 51
        }
      },
      "source": [
        "   import numpy as np\n",
        "   arr = np.array([[1, 2, 3, 4], [5, 6, 7, 8]])\n",
        "   arr1= np.array([1,2,3,4])\n",
        "\n",
        "   print(arr.shape)\n",
        "   print(arr1.shape)"
      ],
      "execution_count": null,
      "outputs": [
        {
          "output_type": "stream",
          "text": [
            "(2, 4)\n",
            "(4,)\n"
          ],
          "name": "stdout"
        }
      ]
    },
    {
      "cell_type": "markdown",
      "metadata": {
        "id": "DaqvlyT0-sil"
      },
      "source": [
        "**All in One Example**"
      ]
    },
    {
      "cell_type": "code",
      "metadata": {
        "id": "CMAx1fkN-v4x",
        "outputId": "c10ce9d0-a00a-4ab8-d14a-b05a179a8865",
        "colab": {
          "base_uri": "https://localhost:8080/",
          "height": 68
        }
      },
      "source": [
        "   array_example = np.array([[[0, 1, 2, 3],\n",
        "                            [4, 5, 6, 7]],\n",
        "\n",
        "                           [[0, 1, 2, 3],\n",
        "                            [4, 5, 6, 7]],\n",
        "\n",
        "                           [[0 ,1 ,2, 3],\n",
        "                            [4, 5, 6, 7]]])\n",
        " \n",
        "   print('No of dimensions of the array:',array_example.ndim)     # .ndim for dimensions\n",
        "   print('Total no of elements of the array:',array_example.size) # .size for size\n",
        "   print('Shape of the array:',array_example.shape)                # .shape for shape"
      ],
      "execution_count": null,
      "outputs": [
        {
          "output_type": "stream",
          "text": [
            "No of dimensions of the array: 3\n",
            "Total no of elements of the array: 24\n",
            "Shape of the array: (3, 2, 4)\n"
          ],
          "name": "stdout"
        }
      ]
    },
    {
      "cell_type": "markdown",
      "metadata": {
        "id": "xS2Wz42v_pqo"
      },
      "source": [
        "## NumPy Array Reshaping"
      ]
    },
    {
      "cell_type": "markdown",
      "metadata": {
        "id": "8raKPv4__z7h"
      },
      "source": [
        "Reshape from 1-Dimensional to 2-Dimensional"
      ]
    },
    {
      "cell_type": "code",
      "metadata": {
        "id": "oam8dZQH_7-v",
        "outputId": "93264028-ed77-40d7-a213-e444d39f8bee",
        "colab": {
          "base_uri": "https://localhost:8080/",
          "height": 136
        }
      },
      "source": [
        "   import numpy as np\n",
        "   arr1 = np.array([1, 2, 3, 4, 5, 6, 7, 8, 9, 10, 11, 12])\n",
        "   newarr1 = arr1.reshape(4, 3)\n",
        "   arr2 = np.array(['D','e','V','I','n','c','e','p','t'])\n",
        "   newarr2 = arr2.reshape(3,3)\n",
        "   print(newarr1)\n",
        "   print(newarr2)"
      ],
      "execution_count": null,
      "outputs": [
        {
          "output_type": "stream",
          "text": [
            "[[ 1  2  3]\n",
            " [ 4  5  6]\n",
            " [ 7  8  9]\n",
            " [10 11 12]]\n",
            "[['D' 'e' 'V']\n",
            " ['I' 'n' 'c']\n",
            " ['e' 'p' 't']]\n"
          ],
          "name": "stdout"
        }
      ]
    },
    {
      "cell_type": "markdown",
      "metadata": {
        "id": "Mgk1bM2_AG-U"
      },
      "source": [
        "Reshape from 1-Dimensional to 3-Dimensional"
      ]
    },
    {
      "cell_type": "code",
      "metadata": {
        "id": "AMlf27XvAGLB",
        "outputId": "01d78258-528b-4721-fb7c-f5b0ae48d7b9",
        "colab": {
          "base_uri": "https://localhost:8080/",
          "height": 136
        }
      },
      "source": [
        "   import numpy as np\n",
        "   arr = np.array([1, 2, 3, 4, 5, 6, 7, 8, 9, 10, 11, 12])\n",
        "   newarr = arr.reshape(2, 3, 2)\n",
        "   print(newarr)"
      ],
      "execution_count": null,
      "outputs": [
        {
          "output_type": "stream",
          "text": [
            "[[[ 1  2]\n",
            "  [ 3  4]\n",
            "  [ 5  6]]\n",
            "\n",
            " [[ 7  8]\n",
            "  [ 9 10]\n",
            "  [11 12]]]\n"
          ],
          "name": "stdout"
        }
      ]
    },
    {
      "cell_type": "markdown",
      "metadata": {
        "id": "oIfG5wuiARMw"
      },
      "source": [
        "Multi-Dimensional Array into 1-Dimensional Array"
      ]
    },
    {
      "cell_type": "code",
      "metadata": {
        "id": "mDfVsh4DAX9E",
        "outputId": "170f04ae-e332-47ff-d086-3907560fa22e",
        "colab": {
          "base_uri": "https://localhost:8080/",
          "height": 34
        }
      },
      "source": [
        "   import numpy as np\n",
        "   arr = np.array([[1, 2, 3], [4, 5, 6]])\n",
        "   newarr = arr.reshape(-1)\n",
        "   print(newarr)"
      ],
      "execution_count": null,
      "outputs": [
        {
          "output_type": "stream",
          "text": [
            "[1 2 3 4 5 6]\n"
          ],
          "name": "stdout"
        }
      ]
    },
    {
      "cell_type": "markdown",
      "metadata": {
        "id": "HsOUztvfAeQG"
      },
      "source": [
        "## NumPy Sorting and Searching"
      ]
    },
    {
      "cell_type": "markdown",
      "metadata": {
        "id": "VYLW04h7AiPr"
      },
      "source": [
        "### NumPy Sorting"
      ]
    },
    {
      "cell_type": "code",
      "metadata": {
        "id": "yevX-WhxApT8",
        "outputId": "7274deb1-68c9-4c14-cec1-8d6abd4dff9a",
        "colab": {
          "base_uri": "https://localhost:8080/",
          "height": 85
        }
      },
      "source": [
        "   import numpy as np\n",
        "   arr1 = np.array([3, 2, 0, 1])\n",
        "   arr2 = np.array(['red','blue','green'])\n",
        "   \n",
        "   # 2-D array\n",
        "   arr3 = np.array([[3, 2, 4], [5, 0, 1]])\n",
        "   \n",
        "   print(np.sort(arr1))\n",
        "   print(np.sort(arr2))\n",
        "   print(np.sort(arr3))"
      ],
      "execution_count": null,
      "outputs": [
        {
          "output_type": "stream",
          "text": [
            "[0 1 2 3]\n",
            "['blue' 'green' 'red']\n",
            "[[2 3 4]\n",
            " [0 1 5]]\n"
          ],
          "name": "stdout"
        }
      ]
    },
    {
      "cell_type": "markdown",
      "metadata": {
        "id": "oX7tR9X7AuVv"
      },
      "source": [
        "### NumPy Searching"
      ]
    },
    {
      "cell_type": "markdown",
      "metadata": {
        "id": "5m-s-Na4A2Cs"
      },
      "source": [
        "**where() :**"
      ]
    },
    {
      "cell_type": "code",
      "metadata": {
        "id": "wdbB1-ZwAxlY",
        "outputId": "dd3252fb-7c1c-48ef-96ee-2ac345e407fc",
        "colab": {
          "base_uri": "https://localhost:8080/",
          "height": 68
        }
      },
      "source": [
        "   import numpy as np\n",
        "   arr1 = np.array([1, 2, 3, 4, 5, 4, 4])\n",
        "   x = np.where(arr1 == 4)\n",
        "   y = np.where(arr1%2 == 0)\n",
        "   z = np.where(arr1%2 == 1)\n",
        "   print(x)\n",
        "   print(y)\n",
        "   print(z)"
      ],
      "execution_count": null,
      "outputs": [
        {
          "output_type": "stream",
          "text": [
            "(array([3, 5, 6]),)\n",
            "(array([1, 3, 5, 6]),)\n",
            "(array([0, 2, 4]),)\n"
          ],
          "name": "stdout"
        }
      ]
    },
    {
      "cell_type": "markdown",
      "metadata": {
        "id": "Fd5_Dqq4A5u3"
      },
      "source": [
        "**searchsorted() :**"
      ]
    },
    {
      "cell_type": "code",
      "metadata": {
        "id": "nAX3a2a4A4iW",
        "outputId": "0b7f2274-7249-4488-94b3-2ccd590fddf1",
        "colab": {
          "base_uri": "https://localhost:8080/",
          "height": 51
        }
      },
      "source": [
        "   import numpy as np\n",
        "   arr1 = np.array([6, 7, 8, 9])\n",
        "   x = np.searchsorted(arr1, 7)\n",
        "   print(x)\n",
        "   \n",
        "   # Multiple values\n",
        "   arr2 = np.array([1, 3, 5, 7])\n",
        "   y = np.searchsorted(arr2, [2, 4, 6])\n",
        "   print(y)"
      ],
      "execution_count": null,
      "outputs": [
        {
          "output_type": "stream",
          "text": [
            "1\n",
            "[1 2 3]\n"
          ],
          "name": "stdout"
        }
      ]
    },
    {
      "cell_type": "markdown",
      "metadata": {
        "id": "-e06TgWUBI9e"
      },
      "source": [
        "## Mean, Median, Mode"
      ]
    },
    {
      "cell_type": "markdown",
      "metadata": {
        "id": "qAb3kEOSBMtT"
      },
      "source": [
        "### Mean"
      ]
    },
    {
      "cell_type": "code",
      "metadata": {
        "id": "afrWai0bBPyD",
        "outputId": "0117a3b1-541b-448c-f5c0-4c7a8bac6377",
        "colab": {
          "base_uri": "https://localhost:8080/",
          "height": 34
        }
      },
      "source": [
        "   import numpy as np\n",
        "   arr=np.array([19,13,18,21,44,17,12,31,37,8,12,27])\n",
        "   x=np.mean(arr)\n",
        "   print(x)"
      ],
      "execution_count": null,
      "outputs": [
        {
          "output_type": "stream",
          "text": [
            "21.583333333333332\n"
          ],
          "name": "stdout"
        }
      ]
    },
    {
      "cell_type": "markdown",
      "metadata": {
        "id": "mEIDbq8nBULu"
      },
      "source": [
        "### Median"
      ]
    },
    {
      "cell_type": "code",
      "metadata": {
        "id": "8bFk1NsvBcEd",
        "outputId": "cbb4384b-d9df-4502-9b61-7ce503981ccc",
        "colab": {
          "base_uri": "https://localhost:8080/",
          "height": 51
        }
      },
      "source": [
        "   import numpy\n",
        "   # For one value in the middle\n",
        "   speed = [99,86,87,88,111,86,103,87,94,78,77,85,86]\n",
        "   x = numpy.median(speed)\n",
        "   print(x)\n",
        "   \n",
        "   # For two values in the middle\n",
        "   speed1 = [99,86,87,88,86,103,87,94,78,77,85,86]\n",
        "   y = numpy.median(speed1)\n",
        "   print(y)"
      ],
      "execution_count": null,
      "outputs": [
        {
          "output_type": "stream",
          "text": [
            "87.0\n",
            "86.5\n"
          ],
          "name": "stdout"
        }
      ]
    },
    {
      "cell_type": "markdown",
      "metadata": {
        "id": "SFjFWDmrBgZD"
      },
      "source": [
        "### Mode"
      ]
    },
    {
      "cell_type": "code",
      "metadata": {
        "id": "_US_V68hBmou",
        "outputId": "0b4b566e-b264-47a7-e4a8-bf07582d3903",
        "colab": {
          "base_uri": "https://localhost:8080/",
          "height": 34
        }
      },
      "source": [
        "   from scipy import stats\n",
        "   speed = [99,86,87,88,111,86,103,87,94,78,77,85,86]\n",
        "   x = stats.mode(speed)\n",
        "   print(x)"
      ],
      "execution_count": null,
      "outputs": [
        {
          "output_type": "stream",
          "text": [
            "ModeResult(mode=array([86]), count=array([3]))\n"
          ],
          "name": "stdout"
        }
      ]
    },
    {
      "cell_type": "markdown",
      "metadata": {
        "id": "gExfQdSiBuxX"
      },
      "source": [
        "## Standard Deviation (σ)"
      ]
    },
    {
      "cell_type": "code",
      "metadata": {
        "id": "t43odpbmB1zQ",
        "outputId": "f236a788-bfd6-417b-f18b-0032f0af7e6a",
        "colab": {
          "base_uri": "https://localhost:8080/",
          "height": 51
        }
      },
      "source": [
        "   import numpy\n",
        "   speed = [86,87,88,86,87,85,86]\n",
        "   x = numpy.std(speed)\n",
        "   print(x)\n",
        "   \n",
        "   speed1 = [32,111,138,28,59,77,97]\n",
        "   y = numpy.std(speed1)\n",
        "   print(y)"
      ],
      "execution_count": null,
      "outputs": [
        {
          "output_type": "stream",
          "text": [
            "0.9035079029052513\n",
            "37.84501153334721\n"
          ],
          "name": "stdout"
        }
      ]
    }
  ]
}
